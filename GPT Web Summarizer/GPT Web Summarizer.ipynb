{
 "cells": [
  {
   "cell_type": "code",
   "execution_count": 50,
   "id": "92f4a302-4d8f-436a-8423-10c5cb023824",
   "metadata": {},
   "outputs": [],
   "source": [
    "# Importing libraries\n",
    "import os\n",
    "from dotenv import load_dotenv\n",
    "import requests\n",
    "import gradio as gr\n",
    "from openai import OpenAI\n",
    "from bs4 import BeautifulSoup\n",
    "from IPython.display import display, Markdown"
   ]
  },
  {
   "cell_type": "code",
   "execution_count": 51,
   "id": "123dd8eb-a046-45cb-8c04-92a9b0da212e",
   "metadata": {},
   "outputs": [],
   "source": [
    "# Load environment variables from the .env file\n",
    "load_dotenv()\n",
    "os.environ[\"OPENAI_API_KEY\"] = os.getenv(\"OPENAI_API_KEY\", \"'your-key-if-not-using-env'\")\n",
    "openai = OpenAI()"
   ]
  },
  {
   "cell_type": "code",
   "execution_count": 52,
   "id": "e3ebf165-58a7-4b8f-91ae-cb523905372d",
   "metadata": {},
   "outputs": [],
   "source": [
    "# Website class to handle the extraction of title and text content from a webpage\n",
    "class Website():\n",
    "    url: str\n",
    "    title: str\n",
    "    text: str\n",
    "    \n",
    "    def __init__(self,url):\n",
    "        self.url = url\n",
    "        response = requests.get(url)\n",
    "        soup = BeautifulSoup(response.content,'html.parser')\n",
    "        self.title = soup.title.string if soup.title else 'no title exist'\n",
    "        for irrelevant in soup.body(['script', 'input','img','style']):\n",
    "            irrelevant.decompose()\n",
    "        self.text = soup.body.get_text(separator=\"\\n\", strip=True)"
   ]
  },
  {
   "cell_type": "code",
   "execution_count": 54,
   "id": "8334f046-ef2f-406f-92d2-58521b9bf451",
   "metadata": {},
   "outputs": [],
   "source": [
    "# System prompt for summarizing website content\n",
    "system_prompt = \"\"\"\n",
    "You are an assistant that analyzes website content and provides summaries. \n",
    "Respond in Markdown format and offer styles such as key points, detailed summaries or Q&A format.\n",
    "\"\"\""
   ]
  },
  {
   "cell_type": "code",
   "execution_count": 56,
   "id": "805d547b-3510-4f54-9ded-084b0c47d27c",
   "metadata": {},
   "outputs": [],
   "source": [
    "# Function to generate user-specific prompt based on style\n",
    "def user_prompt(website, style):\n",
    "    if style == \"Key Points\":\n",
    "        user_prompt = f\"Summarize the website titled '{website.title}' in key points:\\n\\n{website.text}\"\n",
    "    elif style == \"Detailed\":\n",
    "        user_prompt = f\"Provide a detailed summary of the website titled '{website.title}':\\n\\n{website.text}\"\n",
    "    elif style == \"Q&A\":\n",
    "        user_prompt = f\"Generate a question-answer format summary for the website titled '{website.title}':\\n\\n{website.text}\"\n",
    "    return user_prompt"
   ]
  },
  {
   "cell_type": "code",
   "execution_count": 57,
   "id": "1feb7dcf-04f7-49a8-b921-43af353971eb",
   "metadata": {},
   "outputs": [],
   "source": [
    "# Define the function to structure the message for GPT\n",
    "def message_for(website, style):\n",
    "       return[{\"role\": \"system\", \"content\": system_prompt},\n",
    "              {\"role\": \"user\",\"content\": user_prompt(website, style)}]"
   ]
  },
  {
   "cell_type": "code",
   "execution_count": 58,
   "id": "060d7b77-f484-4331-b065-64227f7c6da1",
   "metadata": {},
   "outputs": [],
   "source": [
    "# Define the summarize function to generate a concise summary for a given URL\n",
    "def summarize(url, style):\n",
    "    website = Website(url)\n",
    "    response = openai.chat.completions.create(\n",
    "        model=\"gpt-4o-mini\",\n",
    "        messages= message_for(website, style)\n",
    "    )\n",
    "    result = response.choices[0].message.content\n",
    "    return f\"Mock summary for '{website.title}' in {style} style.\\n\\n{result}\""
   ]
  },
  {
   "cell_type": "code",
   "execution_count": 72,
   "id": "8a515f0f-5482-4da2-822b-dcb0af81bce5",
   "metadata": {},
   "outputs": [],
   "source": [
    "# Function to display this nicely in the Jupyter output\n",
    "\n",
    "def display_summary(url, style):\n",
    "    summary = summarize(url, style)\n",
    "    display(Markdown(summary))"
   ]
  },
  {
   "cell_type": "code",
   "execution_count": 74,
   "id": "d41aeca1-ee22-4839-83f8-17b5cc748d1e",
   "metadata": {},
   "outputs": [
    {
     "data": {
      "text/markdown": [
       "Mock summary for 'Towards Data Science' in Key Points style.\n",
       "\n",
       "# Towards Data Science - Key Points Summary\n",
       "\n",
       "- **Overview**: \n",
       "  - A leading publication focusing on data science, artificial intelligence (AI), data analytics, data engineering, and machine learning (ML) professionals.\n",
       "\n",
       "- **Content Types**: \n",
       "  - **Latest Articles**: Insights into recent developments and practical applications in data science.\n",
       "  - **Editors' Picks**: Curated articles highlighting must-read tips and trends.\n",
       "  - **Deep Dives**: In-depth explorations of relevant topics in the data science field.\n",
       "\n",
       "- **Notable Recent Articles**:\n",
       "  - **Multimodal RAG**: A beginner's guide with Python code to process any file type using AI.\n",
       "  - **Chat with Images**: Building a chat-like mode with the Llama 3.2-Vision model.\n",
       "  - **Roles Explained**: Differences between data engineers and data scientists.\n",
       "  - **Fantasy Football Agent**: A guide on creating a research agent using LangGraph and deploying it on AWS.\n",
       "  - **Dynamic RAG**: Comparison between traditional and dynamic retrieval augmented generation.\n",
       "\n",
       "- **Educational Resources**:\n",
       "  - Articles aimed at transitioning into data science and within the discipline.\n",
       "  - Guides on algorithmic considerations and management tips for new leaders in tech roles.\n",
       "\n",
       "- **Community Engagement**: \n",
       "  - Options to contribute articles, sign up for newsletters, and follow the publication.\n",
       "\n",
       "- **Navigation**: \n",
       "  - Various sections including Home, Latest Articles, Editors' Picks, About, and Archive, emphasizing ease of access to information.\n",
       "\n",
       "- **Audience**: \n",
       "  - Targeted at professionals and aspiring individuals in the fields of data science, AI, data analytics, and ML.\n",
       "\n",
       "These points encapsulate the essence of the 'Towards Data Science' website and its offerings."
      ],
      "text/plain": [
       "<IPython.core.display.Markdown object>"
      ]
     },
     "metadata": {},
     "output_type": "display_data"
    }
   ],
   "source": [
    "display_summary('https://towardsdatascience.com','Key Points')"
   ]
  },
  {
   "cell_type": "code",
   "execution_count": 76,
   "id": "d1f48dcf-76bc-4928-8b28-84d6b71e5417",
   "metadata": {},
   "outputs": [
    {
     "name": "stdout",
     "output_type": "stream",
     "text": [
      "* Running on local URL:  http://127.0.0.1:7867\n",
      "\n",
      "Could not create share link. Please check your internet connection or our status page: https://status.gradio.app.\n"
     ]
    },
    {
     "data": {
      "text/html": [
       "<div><iframe src=\"http://127.0.0.1:7867/\" width=\"100%\" height=\"500\" allow=\"autoplay; camera; microphone; clipboard-read; clipboard-write;\" frameborder=\"0\" allowfullscreen></iframe></div>"
      ],
      "text/plain": [
       "<IPython.core.display.HTML object>"
      ]
     },
     "metadata": {},
     "output_type": "display_data"
    },
    {
     "data": {
      "text/plain": []
     },
     "execution_count": 76,
     "metadata": {},
     "output_type": "execute_result"
    }
   ],
   "source": [
    "# Gradio Interface\n",
    "def main_interface(url, style):\n",
    "    if url:\n",
    "        summary = summarize(url, style)\n",
    "        return summary\n",
    "    else:\n",
    "        return \"Please provide a URL.\"\n",
    "\n",
    "# Gradio app\n",
    "interface = gr.Interface(\n",
    "    fn=main_interface,\n",
    "    inputs=[\n",
    "        gr.Textbox(label=\"Enter URL for Summarization\"),\n",
    "        gr.Radio([\"Key Points\", \"Detailed\", \"Q&A\"], label=\"Choose Summary Style\", value=\"Key Points\"),\n",
    "    ],\n",
    "    outputs=[\n",
    "        gr.Markdown(label=\"Summary\")\n",
    "    ],\n",
    "    title=\"Website Summarizer\",\n",
    "    description=\"Paste a URL and choose a summary style.\"\n",
    ")\n",
    "\n",
    "# Launch the Gradio app\n",
    "interface.launch(share=True)"
   ]
  },
  {
   "cell_type": "code",
   "execution_count": null,
   "id": "9bd5d626-b210-4959-9fe8-7f9b0dfdab1c",
   "metadata": {},
   "outputs": [],
   "source": []
  }
 ],
 "metadata": {
  "kernelspec": {
   "display_name": "Python 3 (ipykernel)",
   "language": "python",
   "name": "python3"
  },
  "language_info": {
   "codemirror_mode": {
    "name": "ipython",
    "version": 3
   },
   "file_extension": ".py",
   "mimetype": "text/x-python",
   "name": "python",
   "nbconvert_exporter": "python",
   "pygments_lexer": "ipython3",
   "version": "3.11.10"
  }
 },
 "nbformat": 4,
 "nbformat_minor": 5
}
