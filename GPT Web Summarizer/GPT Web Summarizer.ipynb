{
 "cells": [
  {
   "cell_type": "code",
   "execution_count": 1,
   "id": "92f4a302-4d8f-436a-8423-10c5cb023824",
   "metadata": {},
   "outputs": [],
   "source": [
    "# Importing libraries\n",
    "import os\n",
    "from dotenv import load_dotenv\n",
    "import requests\n",
    "import gradio as gr\n",
    "from openai import OpenAI\n",
    "from bs4 import BeautifulSoup\n",
    "from IPython.display import display, Markdown"
   ]
  },
  {
   "cell_type": "code",
   "execution_count": 3,
   "id": "1ce4e6a1-b232-48d8-acd8-d1a6f6f1a368",
   "metadata": {},
   "outputs": [],
   "source": [
    "# Load environment variables from the .env file\n",
    "load_dotenv()\n",
    "api_key = os.getenv(\"OPENAI_API_KEY\")"
   ]
  },
  {
   "cell_type": "code",
   "execution_count": 5,
   "id": "5b0897e1-aba6-44df-9eae-266c65724e81",
   "metadata": {},
   "outputs": [],
   "source": [
    "openai = OpenAI()"
   ]
  },
  {
   "cell_type": "code",
   "execution_count": 6,
   "id": "e3ebf165-58a7-4b8f-91ae-cb523905372d",
   "metadata": {},
   "outputs": [],
   "source": [
    "# Website class to handle the extraction of title and text content from a webpage\n",
    "class Website():\n",
    "    url: str\n",
    "    title: str\n",
    "    text: str\n",
    "    \n",
    "    def __init__(self,url):\n",
    "        self.url = url\n",
    "        response = requests.get(url)\n",
    "        soup = BeautifulSoup(response.content,'html.parser')\n",
    "        self.title = soup.title.string if soup.title else 'no title exist'\n",
    "        for irrelevant in soup.body(['script', 'input','img','style']):\n",
    "            irrelevant.decompose()\n",
    "        self.text = soup.body.get_text(separator=\"\\n\", strip=True)"
   ]
  },
  {
   "cell_type": "code",
   "execution_count": 7,
   "id": "8334f046-ef2f-406f-92d2-58521b9bf451",
   "metadata": {},
   "outputs": [],
   "source": [
    "# System prompt defines LLM task and toner --> summarizing website content\n",
    "system_prompt = \"\"\"\n",
    "You are an assistant that analyzes website content and provides summaries. \\\n",
    "Respond in Markdown format and offer styles such as key points, detailed summaries or Q&A format.\n",
    "\"\"\""
   ]
  },
  {
   "cell_type": "code",
   "execution_count": 17,
   "id": "805d547b-3510-4f54-9ded-084b0c47d27c",
   "metadata": {},
   "outputs": [],
   "source": [
    "# Function to generate user-specific prompt based on style\n",
    "def user_prompt(website, style):\n",
    "    if style == \"Key Points\":\n",
    "        user_prompt = f\"Summarize the website titled '{website.title}' in key points:\\n\\n{website.text}\"\n",
    "    elif style == \"Detailed\":\n",
    "        user_prompt = f\"Provide a comprehensive summary of the website titled '{website.title}':\\n\\n{website.text}\"\n",
    "    elif style == \"Q&A\":\n",
    "        user_prompt = f\"Generate a question-answer format summary for the website titled '{website.title}':\\n\\n{website.text}\"\n",
    "    return user_prompt"
   ]
  },
  {
   "cell_type": "code",
   "execution_count": 18,
   "id": "1feb7dcf-04f7-49a8-b921-43af353971eb",
   "metadata": {},
   "outputs": [],
   "source": [
    "# Define the function to structure the message for GPT\n",
    "def message_for(website, style):\n",
    "       return[{\"role\": \"system\", \"content\": system_prompt},\n",
    "              {\"role\": \"user\",\"content\": user_prompt(website, style)}]"
   ]
  },
  {
   "cell_type": "code",
   "execution_count": 19,
   "id": "060d7b77-f484-4331-b065-64227f7c6da1",
   "metadata": {},
   "outputs": [],
   "source": [
    "# Define the summarize function to generate summary for given URL\n",
    "def summarize(url, style):\n",
    "    website = Website(url)\n",
    "    response = openai.chat.completions.create(\n",
    "        model=\"gpt-4o-mini\",\n",
    "        messages= message_for(website, style)\n",
    "    )\n",
    "    return response.choices[0].message.content"
   ]
  },
  {
   "cell_type": "code",
   "execution_count": 20,
   "id": "8a515f0f-5482-4da2-822b-dcb0af81bce5",
   "metadata": {},
   "outputs": [],
   "source": [
    "# Function to display this nicely in the Jupyter output\n",
    "def display_summary(url, style):\n",
    "    summary = summarize(url, style)\n",
    "    display(Markdown(summary))"
   ]
  },
  {
   "cell_type": "code",
   "execution_count": 21,
   "id": "d41aeca1-ee22-4839-83f8-17b5cc748d1e",
   "metadata": {},
   "outputs": [
    {
     "data": {
      "text/markdown": [
       "# Summary of The New York Times Website\n",
       "\n",
       "## Overview\n",
       "The New York Times (NYT) is an established American newspaper that provides comprehensive coverage of national and international news, as well as various other categories including politics, business, arts, lifestyle, opinion, and more. The website is known for its in-depth reporting, analyses, and inspirational storytelling.\n",
       "\n",
       "## Key Sections of the Website\n",
       "- **U.S. News**: Covers local news, politics, education, health, and sports.\n",
       "- **World News**: Reports on global issues, including international relations, crises, and culture in various regions.\n",
       "- **Business**: Focuses on economics, finance, and technological advancements with sub-sections like DealBook and Your Money.\n",
       "- **Arts**: Features reviews and articles related to books, music, movies, and pop culture.\n",
       "- **Lifestyle**: Offers content on health, travel, food, and personal finance, including cooking tips and real estate advice.\n",
       "- **Opinion**: Includes editorials, guest essays, and columns from notable journalists and thought leaders.\n",
       "- **Podcasts**: Offers a range of audio content covering news analysis, cultural discussions, and storytelling.\n",
       "- **Games**: Provides interactive content such as crosswords, word puzzles, and logic games.\n",
       "- **Cooking**: Features recipes, cooking advice, and meal planning ideas from culinary experts.\n",
       "\n",
       "## Notable Features\n",
       "- **Newsletters**: The NYT offers various newsletters to cater to specific interests, including daily news briefings and thematic content.\n",
       "- **Podcasts**: Prominent programs like *The Daily* provide concise analyses of current events, while others focus on specific topics like technology and literature.\n",
       "- **Wirecutter**: A product review service that focuses on consumer electronics and other household products.\n",
       "- **The Athletic**: A sports coverage service providing personalized content about specific leagues and teams.\n",
       "\n",
       "## Current Highlights\n",
       "### Top Stories\n",
       "1. **Trade War Impact**: The analysis shows that Trump voters could be significantly affected by new tariffs imposed by other nations.\n",
       "2. **Labor Abuse Investigation**: An in-depth piece investigates the conditions faced by East African maids in Saudi Arabia, highlighting systemic exploitation.\n",
       "3. **Geopolitical Tensions**: Coverage on tensions between Israel and Lebanon and the implications for military recruitments within Israel.\n",
       "4. **Cultural Features**: Articles discussing art, literature, and personal narratives that resonate with audiences.\n",
       "\n",
       "### Recent Headlines\n",
       "- Marco Rubio's statement on deportations following legal actions.\n",
       "- A spotlight on the reactions to Black Lives Matter mural removal in Washington D.C.\n",
       "- Severe weather updates and their impacts across regions.\n",
       "\n",
       "## Conclusion\n",
       "The New York Times serves as a reliable resource for anyone seeking reliable and varied news coverage. Its diverse sections ensure that there is content available for nearly every reader's interest, and its commitment to quality journalism is reflected throughout its extensive offerings."
      ],
      "text/plain": [
       "<IPython.core.display.Markdown object>"
      ]
     },
     "metadata": {},
     "output_type": "display_data"
    }
   ],
   "source": [
    "display_summary('https://www.nytimes.com/','Detailed')"
   ]
  },
  {
   "cell_type": "code",
   "execution_count": 22,
   "id": "d1f48dcf-76bc-4928-8b28-84d6b71e5417",
   "metadata": {},
   "outputs": [
    {
     "name": "stdout",
     "output_type": "stream",
     "text": [
      "* Running on local URL:  http://127.0.0.1:7861\n",
      "\n",
      "Could not create share link. Please check your internet connection or our status page: https://status.gradio.app.\n"
     ]
    },
    {
     "data": {
      "text/html": [
       "<div><iframe src=\"http://127.0.0.1:7861/\" width=\"100%\" height=\"500\" allow=\"autoplay; camera; microphone; clipboard-read; clipboard-write;\" frameborder=\"0\" allowfullscreen></iframe></div>"
      ],
      "text/plain": [
       "<IPython.core.display.HTML object>"
      ]
     },
     "metadata": {},
     "output_type": "display_data"
    },
    {
     "data": {
      "text/plain": []
     },
     "execution_count": 22,
     "metadata": {},
     "output_type": "execute_result"
    }
   ],
   "source": [
    "# Gradio Interface\n",
    "def main_interface(url, style):\n",
    "    if url:\n",
    "        summary = summarize(url, style)\n",
    "        return summary\n",
    "    else:\n",
    "        return \"Please provide a URL.\"\n",
    "\n",
    "# Gradio app\n",
    "interface = gr.Interface(\n",
    "    fn=main_interface,\n",
    "    inputs=[\n",
    "        gr.Textbox(label=\"Enter URL for Summarization\"),\n",
    "        gr.Radio([\"Key Points\", \"Detailed\", \"Q&A\"], label=\"Choose Summary Style\", value=\"Key Points\"),\n",
    "    ],\n",
    "    outputs=[\n",
    "        gr.Markdown(label=\"Summary\")\n",
    "    ],\n",
    "    title=\"Website Summarizer\",\n",
    "    description=\"Paste a URL and choose a summary style.\"\n",
    ")\n",
    "\n",
    "# Launch the Gradio app\n",
    "interface.launch(share=True)"
   ]
  },
  {
   "cell_type": "code",
   "execution_count": null,
   "id": "6578af72-720b-4939-84ce-29cac80d0e4b",
   "metadata": {},
   "outputs": [],
   "source": []
  }
 ],
 "metadata": {
  "kernelspec": {
   "display_name": "Python 3 (ipykernel)",
   "language": "python",
   "name": "python3"
  },
  "language_info": {
   "codemirror_mode": {
    "name": "ipython",
    "version": 3
   },
   "file_extension": ".py",
   "mimetype": "text/x-python",
   "name": "python",
   "nbconvert_exporter": "python",
   "pygments_lexer": "ipython3",
   "version": "3.11.10"
  }
 },
 "nbformat": 4,
 "nbformat_minor": 5
}
