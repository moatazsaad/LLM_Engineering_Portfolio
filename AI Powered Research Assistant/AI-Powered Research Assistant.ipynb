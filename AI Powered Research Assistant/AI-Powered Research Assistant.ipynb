{
 "cells": [
  {
   "cell_type": "code",
   "execution_count": 13,
   "id": "7c10175a-e595-444e-843c-5f16af8f76fe",
   "metadata": {},
   "outputs": [],
   "source": [
    "# Import necessary libraries\n",
    "import os\n",
    "from dotenv import load_dotenv\n",
    "import requests\n",
    "from bs4 import BeautifulSoup\n",
    "from openai import OpenAI\n",
    "from IPython.display import display, Markdown\n",
    "import fitz\n",
    "import gradio as gr"
   ]
  },
  {
   "cell_type": "code",
   "execution_count": 14,
   "id": "b0c5b5ea-605e-43c8-9547-504679dfb4ab",
   "metadata": {},
   "outputs": [],
   "source": [
    "# Load environment variables from the .env file\n",
    "load_dotenv()\n",
    "api_key = os.getenv(\"OPENAI_API_KEY\")"
   ]
  },
  {
   "cell_type": "code",
   "execution_count": 15,
   "id": "38e9c4af-5dff-4ce9-8b6c-03237505b7f7",
   "metadata": {},
   "outputs": [],
   "source": [
    "# Initialize OpenAI client\n",
    "openai = OpenAI()"
   ]
  },
  {
   "cell_type": "code",
   "execution_count": 16,
   "id": "9df96531-a36b-47d0-a666-7b5294e508ec",
   "metadata": {},
   "outputs": [],
   "source": [
    "# Extract text from a PDF file\n",
    "def extract_text_from_pdf(pdf_path):\n",
    "    text = \"\"\n",
    "    try:\n",
    "        doc = fitz.open(pdf_path)\n",
    "        for page in doc:\n",
    "            text += page.get_text()\n",
    "        return text\n",
    "    except Exception as e:\n",
    "        return f\"Error extracting text from PDF: {e}\""
   ]
  },
  {
   "cell_type": "code",
   "execution_count": 26,
   "id": "e520b99f-c1b7-4367-bee6-2a4a34ca24a4",
   "metadata": {},
   "outputs": [],
   "source": [
    "# Website class to handle the extraction of title and text content from a webpage\n",
    "class Website:\n",
    "    def __init__(self, url, pdf_path=None):\n",
    "        self.url = url\n",
    "        self.pdf_path = pdf_path\n",
    "        if url:\n",
    "            self._extract_from_url(url)\n",
    "        elif pdf_path:\n",
    "            self._extract_from_pdf(pdf_path)\n",
    "        else:\n",
    "            self.title = \"No input provided\"\n",
    "            self.text = \"No content available.\"\n",
    "            \n",
    "    def _extract_from_url(self, url):\n",
    "        try:\n",
    "            response = requests.get(url, timeout=10)\n",
    "            response.raise_for_status()\n",
    "            soup = BeautifulSoup(response.content, \"html.parser\")\n",
    "            self.title = soup.title.string if soup.title else \"No title available\"\n",
    "            # Remove unnecessary elements\n",
    "            for tag in soup.body.find_all([\"script\", \"style\", \"img\", \"input\"]):\n",
    "                tag.decompose()              \n",
    "            self.text = soup.body.get_text(separator=\"\\n\", strip=True) if soup.body else \"No text available\"\n",
    "        except requests.exceptions.RequestException as e:\n",
    "            self.title = \"Error\"\n",
    "            self.text = f\"Failed to fetch content: {e}\"\n",
    "\n",
    "    def _extract_from_pdf(self, pdf_path):\n",
    "        self.title = os.path.basename(pdf_path)\n",
    "        self.text = extract_text_from_pdf(pdf_path)"
   ]
  },
  {
   "cell_type": "code",
   "execution_count": 18,
   "id": "dda2fed3-37d3-4c29-b400-7ad02a57439a",
   "metadata": {},
   "outputs": [],
   "source": [
    "# AI Research Assistant Prompt\n",
    "system_prompt = \"\"\"\n",
    "You are an AI-powered research assistant. Your job is to:\n",
    "1. Extract key insights, arguments, and claims from articles.\n",
    "2. Provide fact-based summaries and indicate source credibility.\n",
    "3. Answer user queries based on article content.\n",
    "4. Identify important trends across multiple sources.\n",
    "5. Format responses in Markdown for clarity.\n",
    "\"\"\""
   ]
  },
  {
   "cell_type": "code",
   "execution_count": 19,
   "id": "c95fdcb4-99b9-4230-baf3-bcc738e095b3",
   "metadata": {},
   "outputs": [],
   "source": [
    "# Function to generate user prompt\n",
    "def user_prompt(website, query=None):\n",
    "    if query:\n",
    "        return f\"Answer this question based on '{website.title}':\\n\\n{query}\\n\\nContent:\\n{website.text}\"\n",
    "    return f\"Analyze and summarize the website '{website.title}'. Extract key points, claims and credibility indicators:\\n\\n{website.text}\""
   ]
  },
  {
   "cell_type": "code",
   "execution_count": 20,
   "id": "781c0b10-2a34-43e7-ab99-9bb7599922c0",
   "metadata": {},
   "outputs": [],
   "source": [
    "# Define the function to structure the message for GPT\n",
    "def message_for(website, query=None):\n",
    "    return [\n",
    "        {\"role\": \"system\", \"content\": system_prompt},\n",
    "        {\"role\": \"user\", \"content\": user_prompt(website, query)}\n",
    "    ]"
   ]
  },
  {
   "cell_type": "code",
   "execution_count": 33,
   "id": "a44a8c17-e52e-46d6-9f6a-6c926e2a2c01",
   "metadata": {},
   "outputs": [],
   "source": [
    "# AI Research Function\n",
    "def research(url=None, query=None, pdf_path=None):\n",
    "    website = Website(url, pdf_path)\n",
    "    if website.title == \"Error\":\n",
    "        return website.text  # Return error message if fetching failed\n",
    "    response = openai.chat.completions.create(\n",
    "        model=\"gpt-4o-mini\",\n",
    "        messages=message_for(website, query)\n",
    "    )\n",
    "    return response.choices[0].message.content"
   ]
  },
  {
   "cell_type": "code",
   "execution_count": 24,
   "id": "952239e6-bfb7-4d34-905d-885d76034087",
   "metadata": {},
   "outputs": [],
   "source": [
    "# Display research results in Jupyter Notebook\n",
    "def display_research(url, query:str = None):\n",
    "    result = research(url, query)\n",
    "    display(Markdown(result))"
   ]
  },
  {
   "cell_type": "code",
   "execution_count": 27,
   "id": "ac982651-94e3-4b4a-a86c-b078ed280088",
   "metadata": {},
   "outputs": [
    {
     "data": {
      "text/markdown": [
       "# Summary of The New York Times\n",
       "\n",
       "## Overview\n",
       "The New York Times (NYT) is a prominent American newspaper known for its extensive coverage of breaking news, politics, business, culture, and international affairs. It features a variety of sections including U.S. News, World News, Opinion, Arts, and Lifestyle.\n",
       "\n",
       "## Key Points and Claims\n",
       "\n",
       "### News Coverage\n",
       "- **U.S. News**: Includes various topics such as Politics, Health, Science, Education, and Immigration. Recent headlines address critical issues like the Trump administration's detention policies and ongoing legal maneuvers regarding deportations.\n",
       "- **World News**: Reports cover geopolitical dynamics such as the Russia-Ukraine conflict and tensions in the Middle East. There are features on significant historical events, contemporary crises, and diplomatic relationships.\n",
       "- **Business News**: Focuses on economic updates, stock markets, technology, and policies impacting industries, including the implications of AI developments.\n",
       "- **Lifestyle & Culture**: Offers insights into food, travel, style, and the arts, alongside features on wellness and modern life trends.\n",
       "  \n",
       "### Opinion Pieces\n",
       "- NYT hosts a range of opinion articles discussing political strategies, societal issues, and cultural commentary. Notable contributors include recognized journalists and thought leaders.\n",
       "\n",
       "### Multimedia Features\n",
       "- The platform provides access to podcasts and newsletters, such as **The Daily** and **The Morning**, delivering succinct news summaries and analyses.\n",
       "\n",
       "### Interactive Elements\n",
       "- The website includes games and interactive puzzles such as crossword puzzles and word games, enhancing user engagement.\n",
       "\n",
       "## Source Credibility Indicators\n",
       "- **Reputation**: The New York Times is regarded as one of the leading newspapers globally, known for its rigorous journalistic standards and investigative reporting.\n",
       "- **Awards**: It has received numerous Pulitzer Prizes, underscoring its commitment to high-quality journalism.\n",
       "- **Expert Opinion**: Many articles feature insights or analyses from experts in respective fields, lending authority to the reporting.\n",
       "- **Fact-Checking**: The NYT maintains a substantial reputation for accuracy, often citing sources and providing context to news stories, though, like all news organizations, it has faced scrutiny and claims of bias.\n",
       "\n",
       "## Trends Identified\n",
       "- **Geopolitical Tensions**: Continual coverage of evolving crises, particularly in Eastern Europe and the Middle East, reflects a global focus amid rising international conflicts.\n",
       "- **Domestic Policies**: Increasing attention on U.S. domestic policies, especially regarding immigration and healthcare, highlights ongoing societal debates.\n",
       "- **The Impact of Technology**: Reporting on AI and technology reflects a growing intersection between technological advancement and daily life, portraying its implications across various sectors.\n",
       "\n",
       "## Conclusion\n",
       "The New York Times serves as a vital resource for news and analysis across multiple domains. Its comprehensive reporting and diverse perspectives keep readers informed about both domestic and international matters while sustaining its commitment to journalistic integrity.\n",
       "\n",
       "---\n",
       "This summary presents an overview of the key features and credibility of The New York Times based on general knowledge of the publication. If you need specific articles analyzed from their website, please provide the details!"
      ],
      "text/plain": [
       "<IPython.core.display.Markdown object>"
      ]
     },
     "metadata": {},
     "output_type": "display_data"
    }
   ],
   "source": [
    "display_research(\"https://www.nytimes.com/\")"
   ]
  },
  {
   "cell_type": "code",
   "execution_count": 34,
   "id": "be902da5-7bb7-4472-a597-57e226dd2c54",
   "metadata": {},
   "outputs": [
    {
     "name": "stdout",
     "output_type": "stream",
     "text": [
      "* Running on local URL:  http://127.0.0.1:7870\n",
      "\n",
      "Could not create share link. Please check your internet connection or our status page: https://status.gradio.app.\n"
     ]
    },
    {
     "data": {
      "text/html": [
       "<div><iframe src=\"http://127.0.0.1:7870/\" width=\"100%\" height=\"500\" allow=\"autoplay; camera; microphone; clipboard-read; clipboard-write;\" frameborder=\"0\" allowfullscreen></iframe></div>"
      ],
      "text/plain": [
       "<IPython.core.display.HTML object>"
      ]
     },
     "metadata": {},
     "output_type": "display_data"
    },
    {
     "data": {
      "text/plain": []
     },
     "execution_count": 34,
     "metadata": {},
     "output_type": "execute_result"
    }
   ],
   "source": [
    "# Gradio Interface for AI Research Assistant\n",
    "def research_interface(url: str = None, pdf_file: gr.File = None, query: str = None) -> str:\n",
    "    if pdf_file:\n",
    "        # Save the uploaded PDF file\n",
    "        pdf_path = pdf_file.name\n",
    "        return research(pdf_path=pdf_path, query=query)\n",
    "    elif url:\n",
    "        return research(url=url, query=query)\n",
    "    else:\n",
    "        return \"Please provide a valid URL or PDF file.\"\n",
    "\n",
    "# Gradio App Interface\n",
    "interface = gr.Interface(\n",
    "    fn=research_interface,\n",
    "    inputs=[\n",
    "        gr.Textbox(label=\"Enter URL for Analysis (Optional)\"),\n",
    "        gr.File(label=\"Upload PDF for Analysis (Optional)\"),\n",
    "        gr.Textbox(label=\"Ask a question about this content (optional)\")\n",
    "    ],\n",
    "    outputs=gr.Markdown(label=\"Research Insights\"),\n",
    "    title=\"AI-Powered Research Assistant\",\n",
    "    description=\"Paste a URL or upload a PDF and ask research questions about its content.\",\n",
    ")\n",
    "\n",
    "# Launch Gradio App\n",
    "interface.launch(share=True)"
   ]
  },
  {
   "cell_type": "code",
   "execution_count": null,
   "id": "7f5fd9cc-05a5-4688-91b5-61f217b7fa7f",
   "metadata": {},
   "outputs": [],
   "source": []
  }
 ],
 "metadata": {
  "kernelspec": {
   "display_name": "Python 3 (ipykernel)",
   "language": "python",
   "name": "python3"
  },
  "language_info": {
   "codemirror_mode": {
    "name": "ipython",
    "version": 3
   },
   "file_extension": ".py",
   "mimetype": "text/x-python",
   "name": "python",
   "nbconvert_exporter": "python",
   "pygments_lexer": "ipython3",
   "version": "3.11.10"
  }
 },
 "nbformat": 4,
 "nbformat_minor": 5
}
